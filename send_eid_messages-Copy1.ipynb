{
 "cells": [
  {
   "cell_type": "markdown",
   "metadata": {},
   "source": [
    "### packages"
   ]
  },
  {
   "cell_type": "code",
   "execution_count": 1,
   "metadata": {},
   "outputs": [],
   "source": [
    "from selenium import webdriver\n",
    "from webdriver_manager.chrome import ChromeDriverManager\n",
    "from selenium.webdriver.common.keys import Keys\n",
    "from selenium.webdriver import ActionChains\n",
    "from selenium.webdriver.support import expected_conditions as EC\n",
    "from selenium.webdriver.common.by import By\n",
    "from selenium.webdriver.support.ui import WebDriverWait\n",
    "\n",
    "\n",
    "import requests\n",
    "from bs4 import BeautifulSoup\n",
    "import re\n",
    "\n",
    "import time"
   ]
  },
  {
   "cell_type": "markdown",
   "metadata": {},
   "source": [
    "### get selenium"
   ]
  },
  {
   "cell_type": "code",
   "execution_count": 2,
   "metadata": {},
   "outputs": [
    {
     "name": "stderr",
     "output_type": "stream",
     "text": [
      "[WDM] - Current google-chrome version is 90.0.4430\n",
      "[WDM] - Get LATEST driver version for 90.0.4430\n"
     ]
    },
    {
     "name": "stdout",
     "output_type": "stream",
     "text": [
      " \n"
     ]
    },
    {
     "name": "stderr",
     "output_type": "stream",
     "text": [
      "[WDM] - Driver [/Users/majedalhulayel/.wdm/drivers/chromedriver/mac64/90.0.4430.24/chromedriver] found in cache\n"
     ]
    }
   ],
   "source": [
    "driver = webdriver.Chrome(ChromeDriverManager().install())\n",
    "driver.get('http://web.whatsapp.com')\n",
    "driver.maximize_window()\n",
    "\n",
    "\n",
    "#wait until the user scan the QR code and the new chat appears\n",
    "timeout = 100\n",
    "element_present = EC.presence_of_element_located((By.XPATH, '//div[@title=\"New chat\"]'))\n",
    "WebDriverWait(driver, timeout).until(element_present)\n",
    "driver.find_element_by_xpath('//div[@title=\"New chat\"]').click()"
   ]
  },
  {
   "cell_type": "markdown",
   "metadata": {},
   "source": [
    "### find recent contacts"
   ]
  },
  {
   "cell_type": "code",
   "execution_count": 3,
   "metadata": {},
   "outputs": [],
   "source": [
    "response_content = driver.page_source\n",
    "soup = BeautifulSoup(response_content, 'lxml')\n",
    "\n",
    "#recent contacts xml\n",
    "rcontacts_xml = soup.find('div', id='pane-side')\n",
    "#create a list of these contacts\n",
    "random_class = rcontacts_xml.find('span', dir='auto').get('class')[0]\n",
    "rcontacts_xml = rcontacts_xml.find_all('span', dir='auto', class_=random_class)\n",
    "rcontacts_list = [rcontact_xml.get('title') for rcontact_xml in rcontacts_xml]"
   ]
  },
  {
   "cell_type": "markdown",
   "metadata": {},
   "source": [
    "# collect contacts"
   ]
  },
  {
   "cell_type": "code",
   "execution_count": 4,
   "metadata": {
    "scrolled": true
   },
   "outputs": [],
   "source": [
    "contacts_dict = {}\n",
    "contacts_list = []\n",
    "contacts_length = 0\n",
    "dummy_length = 1\n",
    "\n",
    "while contacts_length != dummy_length:\n",
    "    \n",
    "    dummy_length = len(contacts_list)\n",
    "    response_content = driver.page_source\n",
    "    soup = BeautifulSoup(response_content, 'lxml')\n",
    "    contacts_xml = soup.find_all('span', dir='auto', class_=random_class)\n",
    "    \n",
    "    for contact_xml in contacts_xml:\n",
    "        contact = contact_xml.get('title') \n",
    "        if contact is not None and contact not in rcontacts_list and contact not in contacts_dict.keys():\n",
    "            contacts_dict[contact] = {'contact': contact}\n",
    "            contacts_list.append(contact)\n",
    "            \n",
    "    contacts_list.sort()\n",
    "    contacts_length = len(contacts_list)\n",
    "    \n",
    "    last_contact = contacts_list[-3]\n",
    "    xpath = '//span[@title=\"' +  last_contact + '\"]'\n",
    "    element = driver.find_elements_by_xpath(xpath)\n",
    "    driver.execute_script(\"arguments[0].scrollIntoView({ behavior: 'smooth', block: 'start' });\", element[0])\n",
    "    time.sleep(1)\n",
    "\n",
    "driver.find_element_by_xpath('//span[@data-testid=\"back\"]').click()\n",
    "#     print(contacts_length, dummy_length)"
   ]
  },
  {
   "cell_type": "code",
   "execution_count": 19,
   "metadata": {},
   "outputs": [],
   "source": [
    "driver.find_element_by_xpath('//span[@data-testid=\"back\"]').click()\n"
   ]
  },
  {
   "cell_type": "markdown",
   "metadata": {},
   "source": [
    "# "
   ]
  },
  {
   "cell_type": "markdown",
   "metadata": {},
   "source": [
    "# first name"
   ]
  },
  {
   "cell_type": "code",
   "execution_count": 5,
   "metadata": {},
   "outputs": [],
   "source": [
    "#first names dictionary to include gender, translated name, frequency, and other features if needed\n",
    "first_names = {}\n",
    "for contact in contacts_dict.keys():\n",
    "    frequency = 1\n",
    "    \n",
    "    #add first name to the first names dictionary\n",
    "    first_name = contacts_dict[contact]['contact'].split()[0]\n",
    "    if first_name in first_names.keys():\n",
    "        frequency = first_names[first_name]['frequency'] \n",
    "        frequency = frequency + 1\n",
    "    first_names[first_name] = {'frequency': frequency}\n",
    "    \n",
    "    \n",
    "    #add the first name to the orignal contacts dictionary\n",
    "    contacts_dict[contact]['first_name'] = first_name"
   ]
  },
  {
   "cell_type": "markdown",
   "metadata": {},
   "source": [
    "# "
   ]
  },
  {
   "cell_type": "markdown",
   "metadata": {},
   "source": [
    "### translate first_names"
   ]
  },
  {
   "cell_type": "code",
   "execution_count": 6,
   "metadata": {},
   "outputs": [],
   "source": [
    "from google.cloud import translate_v2 as translate\n",
    "import os\n",
    "\n",
    "#PATH TO GOOGLE TRANSLATOR CREDS. \n",
    "#SEE https://www.youtube.com/watch?v=YapTts_An9A&ab_channel=JieJenn\n",
    "\n",
    "os.environ['GOOGLE_APPLICATION_CREDENTIALS'] = r'tawafuq-4d29bf2a208b.json'\n",
    "\n",
    "def translate_name(name):\n",
    "    translate_client = translate.Client()\n",
    "    target = 'ar'\n",
    "    result = translate_client.translate(\n",
    "        name,\n",
    "        source_language = 'en',\n",
    "        target_language='ar')\n",
    "    \n",
    "    translated_name = result['translatedText']\n",
    "    translated_name = translated_name.strip().replace(\"عبد \", \"عبد\")\n",
    "    return translated_name"
   ]
  },
  {
   "cell_type": "markdown",
   "metadata": {},
   "source": [
    "# "
   ]
  },
  {
   "cell_type": "markdown",
   "metadata": {},
   "source": [
    "### translate names"
   ]
  },
  {
   "cell_type": "code",
   "execution_count": 7,
   "metadata": {
    "scrolled": true
   },
   "outputs": [
    {
     "name": "stdout",
     "output_type": "stream",
     "text": [
      "7 \t احمد \t احمد\n",
      "8 \t احلام \t احلام\n",
      "9 \t ابي \t ابي\n",
      "10 \t ابرار \t ابرار\n",
      "11 \t السيد \t السيد\n",
      "12 \t الاحجار \t الاحجار\n",
      "13 \t ال \t ال\n",
      "14 \t اكواتوتس \t اكواتوتس\n",
      "15 \t اخي \t اخي\n",
      "16 \t بقالة \t بقالة\n",
      "17 \t امي \t امي\n",
      "18 \t ام \t ام\n",
      "19 \t جدة \t جدة\n",
      "20 \t حضانه \t حضانه\n",
      "21 \t حضانة \t حضانة\n",
      "22 \t جمال \t جمال\n",
      "23 \t خالتي \t خالتي\n",
      "24 \t حميدة \t حميدة\n",
      "25 \t دايت \t دايت\n",
      "26 \t زوجة \t زوجة\n",
      "27 \t رضا \t رضا\n",
      "28 \t دعاء \t دعاء\n",
      "29 \t زهراء \t زهراء\n",
      "30 \t زاكي \t زاكي\n",
      "31 \t زينب \t زينب\n",
      "32 \t سكينه \t سكينه\n",
      "33 \t سبشل \t سبشل\n",
      "34 \t ساجده٢ \t ساجده٢\n",
      "35 \t زينبي \t زينبي\n",
      "36 \t شهيد \t شهيد\n",
      "37 \t شريفه \t شريفه\n",
      "38 \t سلوى \t سلوى\n",
      "39 \t علوي \t علوي\n",
      "40 \t عاتقه \t عاتقه\n",
      "41 \t فاطمة \t فاطمة\n",
      "42 \t غالب \t غالب\n",
      "43 \t علي \t علي\n",
      "44 \t فيض \t فيض\n",
      "45 \t فطوم \t فطوم\n",
      "46 \t فداء \t فداء\n",
      "47 \t فاطمه \t فاطمه\n",
      "48 \t مريم \t مريم\n",
      "49 \t محمد🤓 \t محمد🤓\n",
      "50 \t محمد \t محمد\n",
      "51 \t ليول \t ليول\n",
      "52 \t موسم \t موسم\n",
      "53 \t مهدي \t مهدي\n",
      "54 \t مكتبة \t مكتبة\n",
      "55 \t مطعم \t مطعم\n",
      "56 \t مصورة \t مصورة\n",
      "57 \t موسى \t موسى\n",
      "58 \t نورية \t نورية\n",
      "59 \t نباء \t نباء\n",
      "60 \t يقين \t يقين\n",
      "61 \t هبه \t هبه\n"
     ]
    }
   ],
   "source": [
    "counter = 0\n",
    "for name in first_names.keys():\n",
    "    time.sleep(1)\n",
    "    counter = counter + 1\n",
    "\n",
    "    #if the first name is English, it will translate it\n",
    "    isArabic = re.match(r'[\\u0600-\\u06ff]+', name)\n",
    "    \n",
    "    #if the name is arabic\n",
    "    if isArabic:\n",
    "        name_translated = name\n",
    "        \n",
    "    #if the name is in englihs, translate it\n",
    "    #if you don't have google api key, there are two options\n",
    "        #first option is to get the key, it is for free\n",
    "        #second option is to use the googletrans package instead of the google translation api\n",
    "    else:\n",
    "        name_translated = translate_name(name)\n",
    "        \n",
    "    first_names[name]['translated'] = name_translated\n",
    "    print(counter, '\\t', name, '\\t', name_translated)"
   ]
  },
  {
   "cell_type": "markdown",
   "metadata": {},
   "source": [
    "# "
   ]
  },
  {
   "cell_type": "markdown",
   "metadata": {},
   "source": [
    "## save names translations"
   ]
  },
  {
   "cell_type": "code",
   "execution_count": 10,
   "metadata": {},
   "outputs": [],
   "source": [
    "import pandas as pd\n",
    "names = pd.read_csv('translated_names.csv')\n",
    "for name in first_names.keys():\n",
    "    first_names[name]['translated'] = names[names.name_en == name].values[0][1]\n"
   ]
  },
  {
   "cell_type": "code",
   "execution_count": 11,
   "metadata": {
    "scrolled": true
   },
   "outputs": [
    {
     "data": {
      "text/plain": [
       "{'Zhoor': {'frequency': 1},\n",
       " 'flynas': {'frequency': 1, 'translated': 'طيران ناس'},\n",
       " 'Fatima': {'frequency': 1, 'translated': 'فاطمة'},\n",
       " 'Facebook': {'frequency': 1},\n",
       " 'Aramex': {'frequency': 1},\n",
       " 'Aqua-Tots': {'frequency': 1},\n",
       " 'احمد': {'frequency': 1},\n",
       " 'احلام': {'frequency': 1},\n",
       " 'ابي': {'frequency': 1},\n",
       " 'ابرار': {'frequency': 1},\n",
       " 'السيد': {'frequency': 1},\n",
       " 'الاحجار': {'frequency': 1},\n",
       " 'ال': {'frequency': 1},\n",
       " 'اكواتوتس': {'frequency': 2},\n",
       " 'اخي': {'frequency': 1},\n",
       " 'بقالة': {'frequency': 1},\n",
       " 'امي': {'frequency': 1},\n",
       " 'ام': {'frequency': 1, 'translated': 'ام'},\n",
       " 'جدة': {'frequency': 1},\n",
       " 'حضانه': {'frequency': 1},\n",
       " 'حضانة': {'frequency': 1},\n",
       " 'جمال': {'frequency': 1},\n",
       " 'خالتي': {'frequency': 5},\n",
       " 'حميدة': {'frequency': 1},\n",
       " 'دايت': {'frequency': 1},\n",
       " 'زوجة': {'frequency': 3},\n",
       " 'رضا': {'frequency': 1},\n",
       " 'دعاء': {'frequency': 1},\n",
       " 'زهراء': {'frequency': 3},\n",
       " 'زاكي': {'frequency': 1},\n",
       " 'زينب': {'frequency': 6},\n",
       " 'سكينه': {'frequency': 1},\n",
       " 'سبشل': {'frequency': 1},\n",
       " 'ساجده٢': {'frequency': 1},\n",
       " 'زينبي': {'frequency': 1},\n",
       " 'شهيد': {'frequency': 1},\n",
       " 'شريفه': {'frequency': 1},\n",
       " 'سلوى': {'frequency': 1},\n",
       " 'علوي': {'frequency': 1},\n",
       " 'عاتقه': {'frequency': 1},\n",
       " 'فاطمة': {'frequency': 2},\n",
       " 'غالب': {'frequency': 1},\n",
       " 'علي': {'frequency': 1},\n",
       " 'فيض': {'frequency': 1},\n",
       " 'فطوم': {'frequency': 1},\n",
       " 'فداء': {'frequency': 1},\n",
       " 'فاطمه': {'frequency': 2},\n",
       " 'مريم': {'frequency': 2},\n",
       " 'محمد🤓': {'frequency': 1},\n",
       " 'محمد': {'frequency': 1, 'translated': 'محمد'},\n",
       " 'ليول': {'frequency': 1},\n",
       " 'موسم': {'frequency': 2},\n",
       " 'مهدي': {'frequency': 1, 'translated': 'مهدي'},\n",
       " 'مكتبة': {'frequency': 2},\n",
       " 'مطعم': {'frequency': 1, 'translated': 'مطعم'},\n",
       " 'مصورة': {'frequency': 1},\n",
       " 'موسى': {'frequency': 1},\n",
       " 'نورية': {'frequency': 1},\n",
       " 'نباء': {'frequency': 1},\n",
       " 'يقين': {'frequency': 2},\n",
       " 'هبه': {'frequency': 1}}"
      ]
     },
     "execution_count": 11,
     "metadata": {},
     "output_type": "execute_result"
    }
   ],
   "source": [
    "first_names"
   ]
  },
  {
   "cell_type": "markdown",
   "metadata": {},
   "source": [
    "# "
   ]
  },
  {
   "cell_type": "markdown",
   "metadata": {},
   "source": [
    "### gender classification"
   ]
  },
  {
   "cell_type": "code",
   "execution_count": 14,
   "metadata": {},
   "outputs": [],
   "source": [
    "gender_names = pd.read_csv('names_gender.csv')\n",
    "names = list(gender_names.name)\n",
    "\n",
    "#search within the names genders file if you can find the name, get its corrosponding gender\n",
    "for first_name in first_names.keys():\n",
    "    translated_name = first_names[first_name]['translated']\n",
    "    if translated_name in names:\n",
    "        first_names[first_name]['gender']= gender_names[gender_names.name == translated_name]['gender'].values[0]\n"
   ]
  },
  {
   "cell_type": "markdown",
   "metadata": {},
   "source": [
    "# "
   ]
  },
  {
   "cell_type": "markdown",
   "metadata": {},
   "source": [
    "### adding gender and translated first name to the origional contacts"
   ]
  },
  {
   "cell_type": "code",
   "execution_count": 15,
   "metadata": {},
   "outputs": [],
   "source": [
    "for contact in contacts_dict.keys():\n",
    "    first_name = contacts_dict[contact]['first_name']\n",
    "    contacts_dict[contact] = {**contacts_dict[contact], **first_names[first_name]}"
   ]
  },
  {
   "cell_type": "code",
   "execution_count": 16,
   "metadata": {
    "scrolled": true
   },
   "outputs": [
    {
     "data": {
      "text/plain": [
       "{'Zhoor': {'contact': 'Zhoor', 'first_name': 'Zhoor', 'frequency': 1},\n",
       " 'flynas طيران ناس': {'contact': 'flynas طيران ناس',\n",
       "  'first_name': 'flynas',\n",
       "  'frequency': 1,\n",
       "  'translated': 'طيران ناس'},\n",
       " 'Fatima Alhelal': {'contact': 'Fatima Alhelal',\n",
       "  'first_name': 'Fatima',\n",
       "  'frequency': 1,\n",
       "  'translated': 'فاطمة',\n",
       "  'gender': 'Female'},\n",
       " 'Facebook': {'contact': 'Facebook', 'first_name': 'Facebook', 'frequency': 1},\n",
       " 'Aramex': {'contact': 'Aramex', 'first_name': 'Aramex', 'frequency': 1},\n",
       " 'Aqua-Tots Al-Malqa': {'contact': 'Aqua-Tots Al-Malqa',\n",
       "  'first_name': 'Aqua-Tots',\n",
       "  'frequency': 1},\n",
       " 'احمد اخو ماجد': {'contact': 'احمد اخو ماجد',\n",
       "  'first_name': 'احمد',\n",
       "  'frequency': 1},\n",
       " 'احلام ام ليل ': {'contact': 'احلام ام ليل ',\n",
       "  'first_name': 'احلام',\n",
       "  'frequency': 1},\n",
       " 'ابي الحنون': {'contact': 'ابي الحنون', 'first_name': 'ابي', 'frequency': 1},\n",
       " 'ابرار ': {'contact': 'ابرار ', 'first_name': 'ابرار', 'frequency': 1},\n",
       " 'السيد': {'contact': 'السيد', 'first_name': 'السيد', 'frequency': 1},\n",
       " 'الاحجار الساخنة ': {'contact': 'الاحجار الساخنة ',\n",
       "  'first_name': 'الاحجار',\n",
       "  'frequency': 1},\n",
       " 'ال غاليه فطومي': {'contact': 'ال غاليه فطومي',\n",
       "  'first_name': 'ال',\n",
       "  'frequency': 1},\n",
       " 'اكواتوتس للسباحة ': {'contact': 'اكواتوتس للسباحة ',\n",
       "  'first_name': 'اكواتوتس',\n",
       "  'frequency': 2},\n",
       " 'اكواتوتس\\xa0\\xa0الفرع الاقرب ': {'contact': 'اكواتوتس\\xa0\\xa0الفرع الاقرب ',\n",
       "  'first_name': 'اكواتوتس',\n",
       "  'frequency': 2},\n",
       " 'اخي الحبيب': {'contact': 'اخي الحبيب', 'first_name': 'اخي', 'frequency': 1},\n",
       " 'بقالة خيرات العباس': {'contact': 'بقالة خيرات العباس',\n",
       "  'first_name': 'بقالة',\n",
       "  'frequency': 1},\n",
       " 'امي كربلايه': {'contact': 'امي كربلايه',\n",
       "  'first_name': 'امي',\n",
       "  'frequency': 1},\n",
       " 'ام عارف': {'contact': 'ام عارف',\n",
       "  'first_name': 'ام',\n",
       "  'frequency': 1,\n",
       "  'translated': 'ام',\n",
       "  'gender': 'Female'},\n",
       " 'جدة جنان ': {'contact': 'جدة جنان ', 'first_name': 'جدة', 'frequency': 1},\n",
       " 'حضانه طفلي الصغير': {'contact': 'حضانه طفلي الصغير',\n",
       "  'first_name': 'حضانه',\n",
       "  'frequency': 1},\n",
       " 'حضانة طفلي الصغير٢': {'contact': 'حضانة طفلي الصغير٢',\n",
       "  'first_name': 'حضانة',\n",
       "  'frequency': 1},\n",
       " 'جمال': {'contact': 'جمال', 'first_name': 'جمال', 'frequency': 1},\n",
       " 'خالتي امنه': {'contact': 'خالتي امنه',\n",
       "  'first_name': 'خالتي',\n",
       "  'frequency': 5},\n",
       " 'خالتي ابتسام ': {'contact': 'خالتي ابتسام ',\n",
       "  'first_name': 'خالتي',\n",
       "  'frequency': 5},\n",
       " 'حميدة العوازم': {'contact': 'حميدة العوازم',\n",
       "  'first_name': 'حميدة',\n",
       "  'frequency': 1},\n",
       " 'خالتي زهراء': {'contact': 'خالتي زهراء',\n",
       "  'first_name': 'خالتي',\n",
       "  'frequency': 5},\n",
       " 'خالتي حميدة': {'contact': 'خالتي حميدة',\n",
       "  'first_name': 'خالتي',\n",
       "  'frequency': 5},\n",
       " 'دايت ماجد': {'contact': 'دايت ماجد', 'first_name': 'دايت', 'frequency': 1},\n",
       " 'خالتي فرات': {'contact': 'خالتي فرات',\n",
       "  'first_name': 'خالتي',\n",
       "  'frequency': 5},\n",
       " ' زوجة سيد علي': {'contact': ' زوجة سيد علي',\n",
       "  'first_name': 'زوجة',\n",
       "  'frequency': 3},\n",
       " 'رضا ابو ماجد': {'contact': 'رضا ابو ماجد',\n",
       "  'first_name': 'رضا',\n",
       "  'frequency': 1},\n",
       " 'دعاء': {'contact': 'دعاء', 'first_name': 'دعاء', 'frequency': 1},\n",
       " 'زهراء السيدة': {'contact': 'زهراء السيدة',\n",
       "  'first_name': 'زهراء',\n",
       "  'frequency': 3},\n",
       " 'زهراء الجميلة': {'contact': 'زهراء الجميلة',\n",
       "  'first_name': 'زهراء',\n",
       "  'frequency': 3},\n",
       " 'زاكي': {'contact': 'زاكي', 'first_name': 'زاكي', 'frequency': 1},\n",
       " 'زوجة سليمان ': {'contact': 'زوجة سليمان ',\n",
       "  'first_name': 'زوجة',\n",
       "  'frequency': 3},\n",
       " 'زوجة احمد حسين ': {'contact': 'زوجة احمد حسين ',\n",
       "  'first_name': 'زوجة',\n",
       "  'frequency': 3},\n",
       " 'زهراء ام حسن': {'contact': 'زهراء ام حسن',\n",
       "  'first_name': 'زهراء',\n",
       "  'frequency': 3},\n",
       " 'زينب ام محمد': {'contact': 'زينب ام محمد',\n",
       "  'first_name': 'زينب',\n",
       "  'frequency': 6},\n",
       " 'زينب ام زهراء': {'contact': 'زينب ام زهراء',\n",
       "  'first_name': 'زينب',\n",
       "  'frequency': 6},\n",
       " 'زينب ام رضا': {'contact': 'زينب ام رضا',\n",
       "  'first_name': 'زينب',\n",
       "  'frequency': 6},\n",
       " 'زينب ام ايه': {'contact': 'زينب ام ايه',\n",
       "  'first_name': 'زينب',\n",
       "  'frequency': 6},\n",
       " 'سكينه بنت عمي': {'contact': 'سكينه بنت عمي',\n",
       "  'first_name': 'سكينه',\n",
       "  'frequency': 1},\n",
       " 'سبشل جوس ': {'contact': 'سبشل جوس ', 'first_name': 'سبشل', 'frequency': 1},\n",
       " 'ساجده٢': {'contact': 'ساجده٢', 'first_name': 'ساجده٢', 'frequency': 1},\n",
       " 'زينبي العشق': {'contact': 'زينبي العشق',\n",
       "  'first_name': 'زينبي',\n",
       "  'frequency': 1},\n",
       " 'زينب محمد': {'contact': 'زينب محمد', 'first_name': 'زينب', 'frequency': 6},\n",
       " 'زينب بنت خالتي ابتسام ': {'contact': 'زينب بنت خالتي ابتسام ',\n",
       "  'first_name': 'زينب',\n",
       "  'frequency': 6},\n",
       " 'شهيد ': {'contact': 'شهيد ', 'first_name': 'شهيد', 'frequency': 1},\n",
       " 'شريفه محمد': {'contact': 'شريفه محمد',\n",
       "  'first_name': 'شريفه',\n",
       "  'frequency': 1},\n",
       " 'سلوى': {'contact': 'سلوى', 'first_name': 'سلوى', 'frequency': 1},\n",
       " 'علوي': {'contact': 'علوي', 'first_name': 'علوي', 'frequency': 1},\n",
       " 'عاتقه': {'contact': 'عاتقه', 'first_name': 'عاتقه', 'frequency': 1},\n",
       " 'فاطمة ام زينب': {'contact': 'فاطمة ام زينب',\n",
       "  'first_name': 'فاطمة',\n",
       "  'frequency': 2},\n",
       " 'فاطمة اللي في الحضانة': {'contact': 'فاطمة اللي في الحضانة',\n",
       "  'first_name': 'فاطمة',\n",
       "  'frequency': 2},\n",
       " 'غالب توصيل ': {'contact': 'غالب توصيل ',\n",
       "  'first_name': 'غالب',\n",
       "  'frequency': 1},\n",
       " 'علي ': {'contact': 'علي ', 'first_name': 'علي', 'frequency': 1},\n",
       " 'فيض الحنان': {'contact': 'فيض الحنان', 'first_name': 'فيض', 'frequency': 1},\n",
       " 'فطوم': {'contact': 'فطوم', 'first_name': 'فطوم', 'frequency': 1},\n",
       " 'فداء ال حماد': {'contact': 'فداء ال حماد',\n",
       "  'first_name': 'فداء',\n",
       "  'frequency': 1},\n",
       " 'فاطمه مرت اخي': {'contact': 'فاطمه مرت اخي',\n",
       "  'first_name': 'فاطمه',\n",
       "  'frequency': 2},\n",
       " 'فاطمه': {'contact': 'فاطمه', 'first_name': 'فاطمه', 'frequency': 2},\n",
       " 'مريم الايوب': {'contact': 'مريم الايوب',\n",
       "  'first_name': 'مريم',\n",
       "  'frequency': 2},\n",
       " 'محمد🤓': {'contact': 'محمد🤓', 'first_name': 'محمد🤓', 'frequency': 1},\n",
       " 'محمد اخو ماجد': {'contact': 'محمد اخو ماجد',\n",
       "  'first_name': 'محمد',\n",
       "  'frequency': 1,\n",
       "  'translated': 'محمد',\n",
       "  'gender': 'Male'},\n",
       " 'ليول': {'contact': 'ليول', 'first_name': 'ليول', 'frequency': 1},\n",
       " 'موسم الياسمين -القطيف ': {'contact': 'موسم الياسمين -القطيف ',\n",
       "  'first_name': 'موسم',\n",
       "  'frequency': 2},\n",
       " 'مهدي': {'contact': 'مهدي',\n",
       "  'first_name': 'مهدي',\n",
       "  'frequency': 1,\n",
       "  'translated': 'مهدي',\n",
       "  'gender': 'Male'},\n",
       " 'مكتبة عبيدان ': {'contact': 'مكتبة عبيدان ',\n",
       "  'first_name': 'مكتبة',\n",
       "  'frequency': 2},\n",
       " 'مكتبة الوجود ': {'contact': 'مكتبة الوجود ',\n",
       "  'first_name': 'مكتبة',\n",
       "  'frequency': 2},\n",
       " 'مطعم فونتينبلو ': {'contact': 'مطعم فونتينبلو ',\n",
       "  'first_name': 'مطعم',\n",
       "  'frequency': 1,\n",
       "  'translated': 'مطعم'},\n",
       " 'مصورة ساجده': {'contact': 'مصورة ساجده',\n",
       "  'first_name': 'مصورة',\n",
       "  'frequency': 1},\n",
       " 'مريم المسجن': {'contact': 'مريم المسجن',\n",
       "  'first_name': 'مريم',\n",
       "  'frequency': 2},\n",
       " 'موسى اخو ماجد': {'contact': 'موسى اخو ماجد',\n",
       "  'first_name': 'موسى',\n",
       "  'frequency': 1},\n",
       " 'موسم الياسمين٢': {'contact': 'موسم الياسمين٢',\n",
       "  'first_name': 'موسم',\n",
       "  'frequency': 2},\n",
       " 'نورية ام السادة ': {'contact': 'نورية ام السادة ',\n",
       "  'first_name': 'نورية',\n",
       "  'frequency': 1},\n",
       " 'نباء المرهون': {'contact': 'نباء المرهون',\n",
       "  'first_name': 'نباء',\n",
       "  'frequency': 1},\n",
       " 'يقين العوى': {'contact': 'يقين العوى', 'first_name': 'يقين', 'frequency': 2},\n",
       " 'يقين': {'contact': 'يقين', 'first_name': 'يقين', 'frequency': 2},\n",
       " 'هبه': {'contact': 'هبه', 'first_name': 'هبه', 'frequency': 1}}"
      ]
     },
     "execution_count": 16,
     "metadata": {},
     "output_type": "execute_result"
    }
   ],
   "source": [
    "contacts_dict"
   ]
  },
  {
   "cell_type": "markdown",
   "metadata": {},
   "source": [
    "# "
   ]
  },
  {
   "cell_type": "markdown",
   "metadata": {},
   "source": [
    "# "
   ]
  },
  {
   "cell_type": "markdown",
   "metadata": {},
   "source": [
    "# contacts selections"
   ]
  },
  {
   "cell_type": "code",
   "execution_count": 175,
   "metadata": {},
   "outputs": [],
   "source": [
    "#targetted list\n",
    "\n",
    "# selected_contacts1 = {}\n",
    "# for contact in contacts_dict.keys():\n",
    "#     if contacts_dict[contact]['frequency'] > 2:\n",
    "#         print(contact)"
   ]
  },
  {
   "cell_type": "code",
   "execution_count": 17,
   "metadata": {},
   "outputs": [],
   "source": [
    "selected_contacts = contacts_dict"
   ]
  },
  {
   "cell_type": "markdown",
   "metadata": {},
   "source": [
    "# send messages"
   ]
  },
  {
   "cell_type": "code",
   "execution_count": 20,
   "metadata": {
    "scrolled": true
   },
   "outputs": [
    {
     "ename": "KeyError",
     "evalue": "'translated'",
     "output_type": "error",
     "traceback": [
      "\u001b[0;31m---------------------------------------------------------------------------\u001b[0m",
      "\u001b[0;31mKeyError\u001b[0m                                  Traceback (most recent call last)",
      "\u001b[0;32m<ipython-input-20-de43481b9888>\u001b[0m in \u001b[0;36m<module>\u001b[0;34m\u001b[0m\n\u001b[1;32m     18\u001b[0m \u001b[0;34m\u001b[0m\u001b[0m\n\u001b[1;32m     19\u001b[0m \u001b[0;34m\u001b[0m\u001b[0m\n\u001b[0;32m---> 20\u001b[0;31m     \u001b[0mfirst_name_translated\u001b[0m \u001b[0;34m=\u001b[0m \u001b[0mselected_contacts\u001b[0m\u001b[0;34m[\u001b[0m\u001b[0mcontact\u001b[0m\u001b[0;34m]\u001b[0m\u001b[0;34m[\u001b[0m\u001b[0;34m'translated'\u001b[0m\u001b[0;34m]\u001b[0m\u001b[0;34m\u001b[0m\u001b[0;34m\u001b[0m\u001b[0m\n\u001b[0m\u001b[1;32m     21\u001b[0m     \u001b[0mgender\u001b[0m \u001b[0;34m=\u001b[0m \u001b[0mselected_contacts\u001b[0m\u001b[0;34m[\u001b[0m\u001b[0mcontact\u001b[0m\u001b[0;34m]\u001b[0m\u001b[0;34m[\u001b[0m\u001b[0;34m'gender'\u001b[0m\u001b[0;34m]\u001b[0m\u001b[0;34m\u001b[0m\u001b[0;34m\u001b[0m\u001b[0m\n\u001b[1;32m     22\u001b[0m \u001b[0;31m#     gender = \"Female\"\u001b[0m\u001b[0;34m\u001b[0m\u001b[0;34m\u001b[0m\u001b[0;34m\u001b[0m\u001b[0m\n",
      "\u001b[0;31mKeyError\u001b[0m: 'translated'"
     ]
    }
   ],
   "source": [
    "counter = 1\n",
    "for contact in selected_contacts.keys():\n",
    "\n",
    "    \n",
    "    #NAVEGATE TO THE CHAT\n",
    "    time.sleep(0.1)  \n",
    "    #open a new chat\n",
    "    driver.find_element_by_xpath('//div[@title=\"New chat\"]').click()\n",
    "    time.sleep(0.1)\n",
    "    #search for the contact name\n",
    "    driver.switch_to.active_element.send_keys(contact)\n",
    "    time.sleep(0.1)\n",
    "    #enter the chat\n",
    "    driver.switch_to.active_element.send_keys(Keys.ENTER)\n",
    "    #send the message\n",
    "    time.sleep(0.3)\n",
    "    message_box = driver.switch_to.active_element\n",
    "    \n",
    "    \n",
    "    first_name_translated = selected_contacts[contact]['translated']\n",
    "    gender = selected_contacts[contact]['gender']\n",
    "#     gender = \"Female\"\n",
    "#     first_name_translated = 'زينب'\n",
    "    \n",
    "    #IF GENDER IS NOT AVAILABLE\n",
    "    if gender == 'Male':\n",
    "        line1 = 'العزيز {},'.format(first_name_translated)\n",
    "        line2 = \"حبيت اهنئك بحلول عيد الفطر المبارك. كل عام وأنت بخير وعساكم من عواده 🎉🎊\"\n",
    "        line3 = \"ماجد آل هليل\"\n",
    "        \n",
    "    elif gender == 'Female':\n",
    "        line1 = 'العزيزة {}'.format(first_name_translated)\n",
    "        line2 = \"حبيت اهنئك بحلول عيد الفطر المبارك. كل عام وأنتي بخير وعساكم من عواده 🎉🎊\"\n",
    "        line3 = \"ماجد آل هليل\"\n",
    "\n",
    "\n",
    "    #FORMAT THE MESSAGE\n",
    "    html_message = \"<p>{}</p><p>{}</p><p></p><p>{}</p>\".format(line1, line2, line3)\n",
    "    \n",
    "    print(counter)\n",
    "    print(line1)\n",
    "    print(line2)\n",
    "    print(line3)\n",
    "    counter = counter +1 \n",
    "    \n",
    "    if counter == 30:\n",
    "        break\n",
    "#     break\n",
    "    \n",
    "    #SEND THE MESSAGE\n",
    "#     driver.execute_script(\"arguments[0].innerHTML = '{}'\".format(html_message),message_box)\n",
    "#     message_box.send_keys(\".\" + Keys.BACKSPACE + Keys.ENTER)\n",
    "    \n"
   ]
  },
  {
   "cell_type": "markdown",
   "metadata": {},
   "source": [
    "# "
   ]
  },
  {
   "cell_type": "markdown",
   "metadata": {},
   "source": [
    "# "
   ]
  },
  {
   "cell_type": "markdown",
   "metadata": {},
   "source": [
    "# "
   ]
  }
 ],
 "metadata": {
  "kernelspec": {
   "display_name": "Python 3",
   "language": "python",
   "name": "python3"
  },
  "language_info": {
   "codemirror_mode": {
    "name": "ipython",
    "version": 3
   },
   "file_extension": ".py",
   "mimetype": "text/x-python",
   "name": "python",
   "nbconvert_exporter": "python",
   "pygments_lexer": "ipython3",
   "version": "3.7.6"
  }
 },
 "nbformat": 4,
 "nbformat_minor": 4
}
